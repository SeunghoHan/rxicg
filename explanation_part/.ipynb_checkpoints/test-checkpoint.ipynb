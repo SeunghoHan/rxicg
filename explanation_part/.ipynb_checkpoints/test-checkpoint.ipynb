{
 "cells": [
  {
   "cell_type": "code",
   "execution_count": 1,
   "metadata": {},
   "outputs": [],
   "source": [
    "from explanation import Explainer"
   ]
  },
  {
   "cell_type": "code",
   "execution_count": 7,
   "metadata": {},
   "outputs": [
    {
     "data": {
      "text/plain": [
       "(['A man on street under trees behind person and is doing a trick on a skateboard.',\n",
       "  'A skateboarder is doing a trick on a skateboard.',\n",
       "  'A young man on street under trees behind person and is doing a trick on a skateboard.',\n",
       "  'A man on street under trees behind person and is doing a trick on a skateboard in a skate park.',\n",
       "  'A man on street under trees behind person and is doing a trick on a skateboard in the air.'],\n",
       " [[['trees', 'behind', 'person'],\n",
       "   ['person', 'on', 'street'],\n",
       "   ['street', 'under', 'trees']],\n",
       "  [],\n",
       "  [['trees', 'behind', 'person'],\n",
       "   ['person', 'on', 'street'],\n",
       "   ['street', 'under', 'trees']],\n",
       "  [['trees', 'behind', 'person'],\n",
       "   ['person', 'on', 'street'],\n",
       "   ['street', 'under', 'trees']],\n",
       "  [['trees', 'behind', 'person'],\n",
       "   ['person', 'on', 'street'],\n",
       "   ['street', 'under', 'trees']]])"
      ]
     },
     "execution_count": 7,
     "metadata": {},
     "output_type": "execute_result"
    }
   ],
   "source": [
    "#explanation.explanation(doLogging = False, test_file_name = '52')\n",
    "\n",
    "ex = Explainer()\n",
    "ex.explanation(doLogging = False, test_file_name = 'COCO_test2014_000000412186')"
   ]
  },
  {
   "cell_type": "code",
   "execution_count": null,
   "metadata": {},
   "outputs": [],
   "source": []
  }
 ],
 "metadata": {
  "kernelspec": {
   "display_name": "Python 2",
   "language": "python",
   "name": "python2"
  },
  "language_info": {
   "codemirror_mode": {
    "name": "ipython",
    "version": 2
   },
   "file_extension": ".py",
   "mimetype": "text/x-python",
   "name": "python",
   "nbconvert_exporter": "python",
   "pygments_lexer": "ipython2",
   "version": "2.7.15"
  }
 },
 "nbformat": 4,
 "nbformat_minor": 2
}
